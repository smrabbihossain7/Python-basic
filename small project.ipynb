{
 "cells": [
  {
   "cell_type": "markdown",
   "id": "b9826835",
   "metadata": {},
   "source": [
    "#### CGPA checker"
   ]
  },
  {
   "cell_type": "code",
   "execution_count": 2,
   "id": "c0eac96d",
   "metadata": {},
   "outputs": [
    {
     "ename": "KeyboardInterrupt",
     "evalue": "Interrupted by user",
     "output_type": "error",
     "traceback": [
      "\u001b[1;31m---------------------------------------------------------------------------\u001b[0m",
      "\u001b[1;31mKeyboardInterrupt\u001b[0m                         Traceback (most recent call last)",
      "Cell \u001b[1;32mIn[2], line 31\u001b[0m\n\u001b[0;32m     28\u001b[0m     \u001b[38;5;28;01mreturn\u001b[39;00m grade_points\u001b[38;5;241m.\u001b[39mget(grade, \u001b[38;5;241m0.0\u001b[39m)\n\u001b[0;32m     30\u001b[0m \u001b[38;5;66;03m# Get input from the user\u001b[39;00m\n\u001b[1;32m---> 31\u001b[0m num_courses \u001b[38;5;241m=\u001b[39m \u001b[38;5;28mint\u001b[39m(\u001b[38;5;28minput\u001b[39m(\u001b[38;5;124m\"\u001b[39m\u001b[38;5;124mEnter the number of courses: \u001b[39m\u001b[38;5;124m\"\u001b[39m))\n\u001b[0;32m     32\u001b[0m grades_and_credits \u001b[38;5;241m=\u001b[39m []\n\u001b[0;32m     34\u001b[0m \u001b[38;5;28;01mfor\u001b[39;00m _ \u001b[38;5;129;01min\u001b[39;00m \u001b[38;5;28mrange\u001b[39m(num_courses):\n",
      "File \u001b[1;32m~\\anaconda3\\Lib\\site-packages\\ipykernel\\kernelbase.py:1202\u001b[0m, in \u001b[0;36mKernel.raw_input\u001b[1;34m(self, prompt)\u001b[0m\n\u001b[0;32m   1200\u001b[0m     msg \u001b[38;5;241m=\u001b[39m \u001b[38;5;124m\"\u001b[39m\u001b[38;5;124mraw_input was called, but this frontend does not support input requests.\u001b[39m\u001b[38;5;124m\"\u001b[39m\n\u001b[0;32m   1201\u001b[0m     \u001b[38;5;28;01mraise\u001b[39;00m StdinNotImplementedError(msg)\n\u001b[1;32m-> 1202\u001b[0m \u001b[38;5;28;01mreturn\u001b[39;00m \u001b[38;5;28mself\u001b[39m\u001b[38;5;241m.\u001b[39m_input_request(\n\u001b[0;32m   1203\u001b[0m     \u001b[38;5;28mstr\u001b[39m(prompt),\n\u001b[0;32m   1204\u001b[0m     \u001b[38;5;28mself\u001b[39m\u001b[38;5;241m.\u001b[39m_parent_ident[\u001b[38;5;124m\"\u001b[39m\u001b[38;5;124mshell\u001b[39m\u001b[38;5;124m\"\u001b[39m],\n\u001b[0;32m   1205\u001b[0m     \u001b[38;5;28mself\u001b[39m\u001b[38;5;241m.\u001b[39mget_parent(\u001b[38;5;124m\"\u001b[39m\u001b[38;5;124mshell\u001b[39m\u001b[38;5;124m\"\u001b[39m),\n\u001b[0;32m   1206\u001b[0m     password\u001b[38;5;241m=\u001b[39m\u001b[38;5;28;01mFalse\u001b[39;00m,\n\u001b[0;32m   1207\u001b[0m )\n",
      "File \u001b[1;32m~\\anaconda3\\Lib\\site-packages\\ipykernel\\kernelbase.py:1245\u001b[0m, in \u001b[0;36mKernel._input_request\u001b[1;34m(self, prompt, ident, parent, password)\u001b[0m\n\u001b[0;32m   1242\u001b[0m \u001b[38;5;28;01mexcept\u001b[39;00m \u001b[38;5;167;01mKeyboardInterrupt\u001b[39;00m:\n\u001b[0;32m   1243\u001b[0m     \u001b[38;5;66;03m# re-raise KeyboardInterrupt, to truncate traceback\u001b[39;00m\n\u001b[0;32m   1244\u001b[0m     msg \u001b[38;5;241m=\u001b[39m \u001b[38;5;124m\"\u001b[39m\u001b[38;5;124mInterrupted by user\u001b[39m\u001b[38;5;124m\"\u001b[39m\n\u001b[1;32m-> 1245\u001b[0m     \u001b[38;5;28;01mraise\u001b[39;00m \u001b[38;5;167;01mKeyboardInterrupt\u001b[39;00m(msg) \u001b[38;5;28;01mfrom\u001b[39;00m \u001b[38;5;28;01mNone\u001b[39;00m\n\u001b[0;32m   1246\u001b[0m \u001b[38;5;28;01mexcept\u001b[39;00m \u001b[38;5;167;01mException\u001b[39;00m:\n\u001b[0;32m   1247\u001b[0m     \u001b[38;5;28mself\u001b[39m\u001b[38;5;241m.\u001b[39mlog\u001b[38;5;241m.\u001b[39mwarning(\u001b[38;5;124m\"\u001b[39m\u001b[38;5;124mInvalid Message:\u001b[39m\u001b[38;5;124m\"\u001b[39m, exc_info\u001b[38;5;241m=\u001b[39m\u001b[38;5;28;01mTrue\u001b[39;00m)\n",
      "\u001b[1;31mKeyboardInterrupt\u001b[0m: Interrupted by user"
     ]
    }
   ],
   "source": [
    "def calculate_cgpa(grades_and_credits):\n",
    "    total_grade_points = 0\n",
    "    total_credit_hours = 0\n",
    "\n",
    "    for course in grades_and_credits:\n",
    "        grade, credit_hours = course\n",
    "        grade_points = get_grade_points(grade) * credit_hours\n",
    "        total_grade_points += grade_points\n",
    "        total_credit_hours += credit_hours\n",
    "\n",
    "    cgpa = total_grade_points / total_credit_hours\n",
    "    return cgpa\n",
    "\n",
    "def get_grade_points(grade):\n",
    "    grade_points = {\n",
    "        'A': 4.0,\n",
    "        'A-': 3.7,\n",
    "        'B+': 3.3,\n",
    "        'B': 3.0,\n",
    "        'B-': 2.7,\n",
    "        'C+': 2.3,\n",
    "        'C': 2.0,\n",
    "        'C-': 1.7,\n",
    "        'D+': 1.3,\n",
    "        'D': 1.0,\n",
    "        'F': 0.0\n",
    "    }\n",
    "    return grade_points.get(grade, 0.0)\n",
    "\n",
    "# Get input from the user\n",
    "num_courses = int(input(\"Enter the number of courses: \"))\n",
    "grades_and_credits = []\n",
    "\n",
    "for _ in range(num_courses):\n",
    "    grade = input(\"Enter the grade for the course: \").upper()\n",
    "    credit_hours = int(input(\"Enter the credit hours for the course: \"))\n",
    "    grades_and_credits.append((grade, credit_hours))\n",
    "\n",
    "# Call the function with user input\n",
    "result_cgpa = calculate_cgpa(grades_and_credits)\n",
    "\n",
    "# Display the result\n",
    "print(f\"CGPA: {result_cgpa:.2f}\")\n"
   ]
  },
  {
   "cell_type": "code",
   "execution_count": 6,
   "id": "ce5e7e84",
   "metadata": {},
   "outputs": [
    {
     "name": "stdout",
     "output_type": "stream",
     "text": [
      "CGPA: 3.24\n"
     ]
    }
   ],
   "source": [
    "def calculate_cgpa(grades_and_credits):\n",
    "    total_grade_points = 0\n",
    "    total_credit_hours = 0\n",
    "\n",
    "    for course in grades_and_credits:\n",
    "        grade, credit_hours = course\n",
    "        grade_points = get_grade_points(grade) * credit_hours\n",
    "        total_grade_points += grade_points\n",
    "        total_credit_hours += credit_hours\n",
    "\n",
    "    cgpa = total_grade_points / total_credit_hours\n",
    "    return cgpa\n",
    "\n",
    "def get_grade_points(grade):\n",
    "    grade_points = {\n",
    "        'A+': 4.0,\n",
    "        'A': 3.75,\n",
    "        'A-': 3.50,\n",
    "        'B+': 3.25,\n",
    "        'B': 3.00,\n",
    "        'B-': 2.75,\n",
    "        'C+': 2.50,\n",
    "        'C': 2.25,\n",
    "        'D': 2.00,\n",
    "        'F': 0.0\n",
    "    }\n",
    "    return grade_points.get(grade, 0.0)\n",
    "\n",
    "# Example usage:\n",
    "grades_and_credits = [('B', 3), ('C+', 3), ('B+', 3), ('C+', 3),('D', 3),('A+', 1),('C', 3),('B', 3),('B', 3),('B', 3),('C+', 3),('B-', 3),('B', 3),('A-', 3),('C+', 3),('C+', 3),('A+', 3),('A+', 3),('C', 1),('A-', 1),('A', 1.5),('C', 3),('A', 1),('C+', 3),('A-', 3),('A-', 3),('A-', 3),('A+', 1),('A+', 3),('A-', 3),('A+', 3),('A+', 1),('A+', 1),('A+', 3),('A+', 3),('A+', 3),('A+', 1),('A+', 1),('A+', 3),('A+', 1.5)]\n",
    "result_cgpa = calculate_cgpa(grades_and_credits)\n",
    "\n",
    "print(f\"CGPA: {result_cgpa:.2f}\")\n"
   ]
  },
  {
   "cell_type": "code",
   "execution_count": null,
   "id": "3ac551fb",
   "metadata": {},
   "outputs": [],
   "source": []
  }
 ],
 "metadata": {
  "kernelspec": {
   "display_name": "Python 3 (ipykernel)",
   "language": "python",
   "name": "python3"
  },
  "language_info": {
   "codemirror_mode": {
    "name": "ipython",
    "version": 3
   },
   "file_extension": ".py",
   "mimetype": "text/x-python",
   "name": "python",
   "nbconvert_exporter": "python",
   "pygments_lexer": "ipython3",
   "version": "3.11.5"
  }
 },
 "nbformat": 4,
 "nbformat_minor": 5
}
