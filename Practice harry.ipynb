{
 "cells": [
  {
   "cell_type": "markdown",
   "id": "bc9b1c3b",
   "metadata": {},
   "source": [
    "#### print statement"
   ]
  },
  {
   "cell_type": "code",
   "execution_count": null,
   "id": "447be4b3",
   "metadata": {},
   "outputs": [],
   "source": [
    "print(\"Hello World\")"
   ]
  },
  {
   "cell_type": "code",
   "execution_count": null,
   "id": "421960bb",
   "metadata": {},
   "outputs": [],
   "source": [
    "print(\"Hello World, \\nI am \\\"Syed Mohammed Rabbi Hossain\\\".\\nI am 27 years old\")"
   ]
  },
  {
   "cell_type": "markdown",
   "id": "254736c5",
   "metadata": {},
   "source": [
    "### basic calculator"
   ]
  },
  {
   "cell_type": "code",
   "execution_count": null,
   "id": "51388ff3",
   "metadata": {},
   "outputs": [],
   "source": [
    "num1 = float(input(\"Write the first number: \"))\n",
    "num2 = float(input(\"Write the second number: \"))\n",
    "print(\"The result is: \",num1, \"+\",num2,\"=\",num1+num2)\n",
    "print(\"The result is: \",num1, \"-\",num2,\"=\",num1-num2)\n",
    "print(\"The result is: \",num1, \"*\",num2,\"=\",num1*num2)\n",
    "print(\"The result is: \",num1, \"/\",num2,\"=\",num1/num2)\n",
    "print(\"The result is: \",num1, \"//\",num2,\"=\",num1//num2)\n",
    "print(\"The result is: \",num1, \"%\",num2,\"=\",num1%num2)\n"
   ]
  },
  {
   "cell_type": "markdown",
   "id": "a9d61280",
   "metadata": {},
   "source": [
    "#### user input"
   ]
  },
  {
   "cell_type": "code",
   "execution_count": null,
   "id": "02c7d81b",
   "metadata": {},
   "outputs": [],
   "source": [
    "value1 = input(\"Write the first value: \")\n",
    "value2 = input(\"Write the second value: \")\n",
    "print(value1 + value2)\n",
    "print(\"the result is \" ,int(value1) + int(value2))\n",
    "print(\"the result is \" ,int(value1) - int(value2))\n",
    "print(\"the result is \" ,int(value1) * int(value2))\n",
    "print(\"the result is \" ,int(value1) / int(value2))\n",
    "print(\"the result is \" ,int(value1) // int(value2))\n",
    "print(\"the result is \" ,int(value1) % int(value2))"
   ]
  },
  {
   "cell_type": "markdown",
   "id": "29a7ebc4",
   "metadata": {},
   "source": [
    "#### string slicing and len of string"
   ]
  },
  {
   "cell_type": "code",
   "execution_count": null,
   "id": "11956c27",
   "metadata": {},
   "outputs": [],
   "source": [
    "str = \"Mango\"\n",
    "name = \"Rabby Hossain\"\n",
    "len1 = len(str)\n",
    "print(\"Mango is a\",len1,\"letter character\")\n",
    "print(name[-7:-3])\n"
   ]
  },
  {
   "cell_type": "markdown",
   "id": "f171f3b3",
   "metadata": {},
   "source": [
    "#### Quick quiz"
   ]
  },
  {
   "cell_type": "code",
   "execution_count": null,
   "id": "e27cdfa0",
   "metadata": {},
   "outputs": [],
   "source": [
    "nm = \"Harry\"\n",
    "print(nm[-4:-2])"
   ]
  },
  {
   "cell_type": "markdown",
   "id": "805326f5",
   "metadata": {},
   "source": [
    "#### string method"
   ]
  },
  {
   "cell_type": "code",
   "execution_count": null,
   "id": "058fe8d0",
   "metadata": {},
   "outputs": [],
   "source": [
    "a = \"welcome to Millennium University!!!\"\n",
    "print(a.upper())\n",
    "print(a.lower())\n",
    "print(a.rstrip(\"!\"))\n",
    "print(a.split(\" \"))\n",
    "print(a.replace(\"Wellcome to Millennium University\", \"Hello I am Crisiano Ronaldo\"))\n",
    "print(a.capitalize())\n",
    "print(a.count(\"m\"))\n",
    "print(a.center(50))\n",
    "print(a.endswith(\"!\"))\n",
    "print(a.endswith(\"to\",4,11))\n",
    "print(a.find(\"to\"))\n",
    "print(a.index(\"to\"))\n",
    "print(a.isalnum())\n",
    "print(a.isalpha())\n",
    "print(a.islower())\n",
    "print(a.isupper())\n",
    "print(a.isprintable())\n",
    "print(a.isspace())\n",
    "print(a.istitle())\n",
    "print(a.startswith(\"w\"))\n",
    "print(a.swapcase())\n",
    "print(a.title())\n",
    "\n",
    "print(len(a))\n",
    "\n"
   ]
  },
  {
   "cell_type": "markdown",
   "id": "b1787d2a",
   "metadata": {},
   "source": [
    "#### if else condition"
   ]
  },
  {
   "cell_type": "code",
   "execution_count": null,
   "id": "2dc72850",
   "metadata": {},
   "outputs": [],
   "source": [
    "age = int(input(\"Enter your age: \"))\n",
    "if age > 18:\n",
    "    print(\"You're eligble for driving.\")\n",
    "else:\n",
    "    print(\"You're not eligble for driving.\")\n",
    "print(\"Thanks for your patience.\")\n",
    "    "
   ]
  },
  {
   "cell_type": "code",
   "execution_count": null,
   "id": "2fea7faa",
   "metadata": {},
   "outputs": [],
   "source": [
    "budget = 37000\n",
    "price = int(input(\"Enter the price: \"))\n",
    "if budget - price == 2000:\n",
    "    print(\"I will buy it later\")\n",
    "elif budget - price == 3000:\n",
    "    print(\"I think, i can buy it\")\n",
    "elif budget - price > 5000:\n",
    "    print(\"I am gonna buy it now.\")\n",
    "else:\n",
    "    print(\"I dont think, it's worthy\")"
   ]
  },
  {
   "cell_type": "code",
   "execution_count": null,
   "id": "fb35432b",
   "metadata": {},
   "outputs": [],
   "source": [
    "num = int(input(\"Enter the value of number: \"))\n",
    "if num < 0:\n",
    "    print(\"It's a negative number.\")\n",
    "elif num == 0:\n",
    "    print(\"Number is zero.\")\n",
    "else:\n",
    "    print(\"Number is positive.\")\n",
    "    "
   ]
  },
  {
   "cell_type": "markdown",
   "id": "d474d3a7",
   "metadata": {},
   "source": [
    "#### time module"
   ]
  },
  {
   "cell_type": "code",
   "execution_count": 2,
   "id": "0712f2ff",
   "metadata": {},
   "outputs": [
    {
     "name": "stdout",
     "output_type": "stream",
     "text": [
      "Good Evening, Have some snacks\n"
     ]
    }
   ],
   "source": [
    "import time\n",
    "# time_count = time.strftime('%H:%M:%S')\n",
    "hour = int(time.strftime('%H'))\n",
    "# hour = int(input(\"Write the time into basis of hour: \"))\n",
    "if hour >= 1 and hour <= 6:\n",
    "    print(\"Go and sleep ashole\")\n",
    "elif hour >= 7 and hour <= 11:\n",
    "    print(\"Wake up.Do some workout.\")\n",
    "elif hour >= 12 and hour <= 15:\n",
    "    print(\"Good noon! Have some lunch.\")\n",
    "elif hour >= 16 and hour <= 18:\n",
    "    print(\"Good Afternoon, go outside and play some game.\")\n",
    "elif hour >= 19 and hour <= 20:\n",
    "    print(\"Good Evening, Have some snacks\")\n",
    "else:\n",
    "    print(\"Read your book, and make sure finish your dinner.\")\n",
    "    \n",
    "    "
   ]
  },
  {
   "cell_type": "markdown",
   "id": "6e1dd971",
   "metadata": {},
   "source": [
    "#### match case statement"
   ]
  },
  {
   "cell_type": "code",
   "execution_count": null,
   "id": "a077dc97",
   "metadata": {},
   "outputs": [],
   "source": [
    "x =int(input(\"Write down the number between 1 - 10\"))\n",
    "match x:\n",
    "    case _ if x == 1:\n",
    "        print(x, \"Number is one\")\n",
    "    case 0:\n",
    "        print(\"Number is blank\")\n",
    "    case _ if x ==2:\n",
    "        print(\"Number is Two\")"
   ]
  },
  {
   "cell_type": "markdown",
   "id": "5b2ac7d5",
   "metadata": {},
   "source": [
    "#### while loop"
   ]
  },
  {
   "cell_type": "code",
   "execution_count": null,
   "id": "6ce753b6",
   "metadata": {},
   "outputs": [],
   "source": [
    "i = 5\n",
    "while i > 0:\n",
    "    print(i, end =\",\")\n",
    "    i-= 1"
   ]
  },
  {
   "cell_type": "code",
   "execution_count": null,
   "id": "b681e9ea",
   "metadata": {},
   "outputs": [],
   "source": [
    "i = 1\n",
    "while i < 6:\n",
    "    print(i, end = \",\")\n",
    "    i += 1"
   ]
  },
  {
   "cell_type": "markdown",
   "id": "b30d6006",
   "metadata": {},
   "source": [
    "#### break statement"
   ]
  },
  {
   "cell_type": "code",
   "execution_count": null,
   "id": "7161e5dc",
   "metadata": {},
   "outputs": [],
   "source": [
    "for i in range(12):\n",
    "    if i == 10:\n",
    "        break\n",
    "    print(\"5 X\",i+1, \"=\" ,5*i+1)\n",
    "    "
   ]
  },
  {
   "cell_type": "markdown",
   "id": "ae7da25d",
   "metadata": {},
   "source": [
    "#### continue statement"
   ]
  },
  {
   "cell_type": "code",
   "execution_count": null,
   "id": "ad3dae4e",
   "metadata": {},
   "outputs": [],
   "source": [
    "for i in range(1,12):\n",
    "    if i == 10:\n",
    "        continue\n",
    "    print(\"5 X\",i, \"=\" ,5*i)"
   ]
  },
  {
   "cell_type": "markdown",
   "id": "2238a722",
   "metadata": {},
   "source": [
    "#### do while loop"
   ]
  },
  {
   "cell_type": "code",
   "execution_count": null,
   "id": "89111700",
   "metadata": {},
   "outputs": [],
   "source": [
    "i = 0\n",
    "while True:\n",
    "    print(i)\n",
    "    i += 1\n",
    "    if i%100==0:\n",
    "        break"
   ]
  },
  {
   "cell_type": "markdown",
   "id": "0d508988",
   "metadata": {},
   "source": [
    "#### list comprehension"
   ]
  },
  {
   "cell_type": "code",
   "execution_count": null,
   "id": "60cc55d7",
   "metadata": {},
   "outputs": [],
   "source": [
    "lst = [i for i in range(10) if i%2!=0]\n",
    "print(lst)"
   ]
  },
  {
   "cell_type": "markdown",
   "id": "0d730d28",
   "metadata": {},
   "source": [
    "#### list method"
   ]
  },
  {
   "cell_type": "code",
   "execution_count": 4,
   "id": "c4c0a786",
   "metadata": {},
   "outputs": [
    {
     "name": "stdout",
     "output_type": "stream",
     "text": [
      "[23, 34, 43, 12, 3, 56, 87, 45, 23, 65, 45, 14]\n"
     ]
    }
   ],
   "source": [
    "l = [23, 34, 43, 12, 3, 56, 87, 45, 23]\n",
    "# # l.append(7)\n",
    "# # # l.sort()\n",
    "# # # for descending we can use this\n",
    "# # # l.sort(reverse = True)\n",
    "# # l.reverse()\n",
    "# k = l.index(3)\n",
    "# # l.count(2)\n",
    "# # l.insert(2, 45)\n",
    "l.extend([65,45,14])\n",
    "print(l)\n",
    "\n"
   ]
  },
  {
   "cell_type": "markdown",
   "id": "f35e0075",
   "metadata": {},
   "source": [
    "#### convert tuples into list"
   ]
  },
  {
   "cell_type": "code",
   "execution_count": 4,
   "id": "dae9c780",
   "metadata": {},
   "outputs": [
    {
     "name": "stdout",
     "output_type": "stream",
     "text": [
      "(1, 2, 3, 4, 5, 6, 7, 8, 10)\n"
     ]
    }
   ],
   "source": [
    "tup = (1,2,3,4,5,6,7,8)\n",
    "temp = list(tup)\n",
    "temp.append(9)\n",
    "temp.pop(8)\n",
    "temp.insert(3,10)\n",
    "temp.sort()\n",
    "temp2 = tuple(temp)\n",
    "print(temp2)"
   ]
  },
  {
   "cell_type": "markdown",
   "id": "e5d7deb5",
   "metadata": {},
   "source": [
    "#### kaun banega crorepoti exercise"
   ]
  },
  {
   "cell_type": "code",
   "execution_count": null,
   "id": "f1144d53",
   "metadata": {},
   "outputs": [
    {
     "name": "stdout",
     "output_type": "stream",
     "text": [
      "Here is your bdt 1000 dolllar's question,How many people lives in Bangladesh?\n",
      "1.16CR      2.20CR     3.18CR     4.22CR\n",
      "Enter your answer betweet 1-4: 3\n",
      "Congratulations you won 2000\n",
      "Here is your bdt 2000 dolllar's question,Who is the prime minister in Bangladesh?\n",
      "1.Sheikh Hasina      2.Ashis     3.Rana     4.Khaleda Zia\n"
     ]
    }
   ],
   "source": [
    " questions = [\n",
    "     [\"How many people lives in Bangladesh?\", \"16CR\",\"20CR\",\"18CR\",\"22CR\",3],\n",
    "     [\"Who is the prime minister in Bangladesh?\",\"Sheikh Hasina\",\"Ashis\",\"Rana\",\"Khaleda Zia\",1],\n",
    "     [\"Name of capital of Bangladesh?\", \"Dhaka\",\"Chattagaram\",\"Barishal\",\"Sylhet\",1],\n",
    "     [\"Who was the first nobel prize winner?\", \"Rahim\",\"Karim\",\"Barkat\",\"William\",4]\n",
    " ]\n",
    "levels = [1000,2000,3000,4000]\n",
    "for i in range(len(questions)):\n",
    "    question = questions[i]\n",
    "    print(f\"Here is your bdt {levels[i]} dolllar's question,{question[0]}\")\n",
    "    print(f\"1.{question[1]}      2.{question[2]}     3.{question[3]}     4.{question[4]}\")\n",
    "    ans =int(input(\"Enter your answer betweet 1-4: \"))\n",
    "    if ans == question[-1]:\n",
    "        print(f\"Congratulations you won {levels[i]}\")\n",
    "        \n",
    "        \n",
    "     "
   ]
  },
  {
   "cell_type": "markdown",
   "id": "048bb50a",
   "metadata": {},
   "source": [
    "#### formatted string"
   ]
  },
  {
   "cell_type": "code",
   "execution_count": 7,
   "id": "8c143a57",
   "metadata": {},
   "outputs": [
    {
     "name": "stdout",
     "output_type": "stream",
     "text": [
      "Hi I,m Syed Mohammed Rabbi Hossain and I am from Bangladesh. \n"
     ]
    }
   ],
   "source": [
    "letter = \"Hi I,m {} and I am from {}. \"\n",
    "name = \"Syed Mohammed Rabbi Hossain\"\n",
    "country = \"Bangladesh\"\n",
    "print(letter.format(name,country))"
   ]
  },
  {
   "cell_type": "markdown",
   "id": "4e82887c",
   "metadata": {},
   "source": [
    "#### recursion using in fibonacci series"
   ]
  },
  {
   "cell_type": "code",
   "execution_count": 8,
   "id": "56aa569a",
   "metadata": {},
   "outputs": [
    {
     "name": "stdout",
     "output_type": "stream",
     "text": [
      "5\n"
     ]
    }
   ],
   "source": [
    "def fibonacci(n):\n",
    "    if n == 0:\n",
    "        return 0\n",
    "    elif n == 1:\n",
    "        return 1\n",
    "    else:\n",
    "        return fibonacci(n-1)+fibonacci(n-2)\n",
    "result = fibonacci(5)\n",
    "print(result)\n",
    "    "
   ]
  },
  {
   "cell_type": "markdown",
   "id": "38873631",
   "metadata": {},
   "source": [
    "#### sets method"
   ]
  },
  {
   "cell_type": "code",
   "execution_count": 10,
   "id": "f3f1533f",
   "metadata": {},
   "outputs": [
    {
     "name": "stdout",
     "output_type": "stream",
     "text": [
      "{1, 2, 3, 4, 5, 6}\n",
      "{1, 2, 3, 4, 5, 6}\n",
      "{3, 4, 5, 6}\n"
     ]
    }
   ],
   "source": [
    "# for empty set we can declare like thid\n",
    "s1 = {1,2,3,4}\n",
    "s2 = {3,4,5,6}\n",
    "s3 = s1.union(s2)\n",
    "print(s3)\n",
    "s1.update(s2)\n",
    "print(s1)\n",
    "s4 = s1.intersection(s2)\n",
    "s1.intersection_update(s3)\n",
    "print(s4)"
   ]
  },
  {
   "cell_type": "markdown",
   "id": "6d75f213",
   "metadata": {},
   "source": [
    "### dictonary method"
   ]
  },
  {
   "cell_type": "code",
   "execution_count": 18,
   "id": "5dce190f",
   "metadata": {},
   "outputs": [
    {
     "name": "stdout",
     "output_type": "stream",
     "text": [
      "{133: 67, 233: 63}\n"
     ]
    }
   ],
   "source": [
    "ep1 = {112:56,122:65,133: 67}\n",
    "ep2 = {233: 63, 333: 76}\n",
    "ep3  = ep1.update(ep2)\n",
    "# ep1.clear()\n",
    "ep1.pop(112)\n",
    "ep1.popitem()\n",
    "del ep1[122]\n",
    "print(ep1)"
   ]
  },
  {
   "cell_type": "markdown",
   "id": "ba0a00e8",
   "metadata": {},
   "source": [
    "#### for loops with else condition"
   ]
  },
  {
   "cell_type": "code",
   "execution_count": 20,
   "id": "afd81260",
   "metadata": {},
   "outputs": [
    {
     "name": "stdout",
     "output_type": "stream",
     "text": [
      "1\n",
      "2\n",
      "3\n",
      "4\n",
      "5\n",
      "6\n",
      "Done! no iteration left here.\n"
     ]
    }
   ],
   "source": [
    "for i in range(1, 7):\n",
    "    print(i)\n",
    "    if i == 7:\n",
    "        break\n",
    "else:\n",
    "    print(\"Done! no iteration left here.\")"
   ]
  },
  {
   "cell_type": "markdown",
   "id": "ac8a4e1b",
   "metadata": {},
   "source": [
    "### error handling"
   ]
  },
  {
   "cell_type": "code",
   "execution_count": 28,
   "id": "7fc7abed",
   "metadata": {},
   "outputs": [
    {
     "name": "stdout",
     "output_type": "stream",
     "text": [
      "Enter the number: rabby\n",
      "Some Error occured.\n",
      "Finish.\n"
     ]
    }
   ],
   "source": [
    "try:\n",
    "    num = int(input(\"Enter the number: \"))\n",
    "    print(f\"Multiplication of {num}\")\n",
    "\n",
    "    for i in range(1,11):\n",
    "        print(f\"{num} X {i} = {num * i}\")\n",
    "except ValueError:\n",
    "    print(\"Some Error occured.\")\n",
    "    print(\"Number enter is not an integer\")\n",
    "    \n",
    "print(\"Finish.\")\n"
   ]
  },
  {
   "cell_type": "markdown",
   "id": "9106c348",
   "metadata": {},
   "source": [
    "#### finally clause"
   ]
  },
  {
   "cell_type": "code",
   "execution_count": 3,
   "id": "a0e309b6",
   "metadata": {},
   "outputs": [
    {
     "name": "stdout",
     "output_type": "stream",
     "text": [
      "Enter the index: 4\n",
      "13\n",
      "I am always executed.\n"
     ]
    }
   ],
   "source": [
    "\n",
    "l = [123,32,54,57,13,35]\n",
    "i = int(input(\"Enter the index: \"))\n",
    "try:\n",
    "    print(f\"{l[i]}\")\n",
    "except:\n",
    "    print(\"Some error occured\")\n",
    "finally:\n",
    "    print(\"I am always executed.\")"
   ]
  },
  {
   "cell_type": "code",
   "execution_count": null,
   "id": "bfc9eab9",
   "metadata": {},
   "outputs": [],
   "source": []
  }
 ],
 "metadata": {
  "kernelspec": {
   "display_name": "Python 3 (ipykernel)",
   "language": "python",
   "name": "python3"
  },
  "language_info": {
   "codemirror_mode": {
    "name": "ipython",
    "version": 3
   },
   "file_extension": ".py",
   "mimetype": "text/x-python",
   "name": "python",
   "nbconvert_exporter": "python",
   "pygments_lexer": "ipython3",
   "version": "3.11.5"
  }
 },
 "nbformat": 4,
 "nbformat_minor": 5
}
